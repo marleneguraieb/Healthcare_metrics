{
 "cells": [
  {
   "cell_type": "markdown",
   "metadata": {},
   "source": [
    "# Cleaning, munging and reshaping data"
   ]
  },
  {
   "cell_type": "code",
   "execution_count": 1,
   "metadata": {
    "collapsed": true
   },
   "outputs": [],
   "source": [
    "import pandas as pd\n",
    "import numpy as np\n",
    "import os\n",
    "from datetime import timedelta"
   ]
  },
  {
   "cell_type": "code",
   "execution_count": 2,
   "metadata": {
    "collapsed": true
   },
   "outputs": [],
   "source": [
    "os.chdir('/Users/marleneguraieb/Google Drive/Healthcare_metrics')"
   ]
  },
  {
   "cell_type": "markdown",
   "metadata": {},
   "source": [
    "The first task is to load the dataset containing all the lab files. The dataset contains 4 columns:\n",
    "    - Medical_unit: the unit that the lab request came from\n",
    "    - Patient: the unique identifyer of a patient\n",
    "    - Date_Request: the date the test was requested from the medical unit (this will be the consult date on the consults file)\n",
    "    - Turnaround: the time it took to process the test, send the results and update the database (this will be relevant as we will have to 'cut' the database to make appropriate comparisons with previous years)."
   ]
  },
  {
   "cell_type": "code",
   "execution_count": 3,
   "metadata": {
    "collapsed": true
   },
   "outputs": [],
   "source": [
    "CACU = pd.read_csv('DATA/CACUJul9.csv')"
   ]
  },
  {
   "cell_type": "code",
   "execution_count": 4,
   "metadata": {
    "collapsed": true
   },
   "outputs": [],
   "source": [
    "colsEng = ['Medical_unit','Patient','Date_Request','Turnaround']\n",
    "CACU.columns = colsEng"
   ]
  },
  {
   "cell_type": "code",
   "execution_count": 5,
   "metadata": {
    "collapsed": true
   },
   "outputs": [],
   "source": [
    "CACU.Date_Request = pd.to_datetime(CACU.Date_Request,format = '%Y-%m-%d')\n",
    "CACU.Medical_unit = CACU.Medical_unit.str.replace('NIS','UMF')"
   ]
  },
  {
   "cell_type": "markdown",
   "metadata": {},
   "source": [
    "In order to make the appropriate comparisons with the previous years, we need to remove the samples in the data that 'took too long' to process in all years. The reason for this is that for each unit, we only have data for x days after the treatment date. Thus, all the tests that take longer than x will not be in the sample of the last year, and since this is the year we're interested in this will bias our results. Thus, for each clinic, we will find out how many days of data we have (as in last capture date minus treatment date) and we will remove from all previous years all the tests that took longer to process than these. "
   ]
  },
  {
   "cell_type": "code",
   "execution_count": 6,
   "metadata": {
    "collapsed": true
   },
   "outputs": [],
   "source": [
    "#Get the last capture date per medical unit in the dataset\n",
    "CACU['Capture'] = CACU['Date_Request'] + pd.to_timedelta(CACU['Turnaround'], unit = 'd')\n",
    "\n",
    "MaxCapture = CACU[['Medical_unit','Capture']].groupby('Medical_unit').max()\n",
    "MaxCapture['Medical_unit'] = MaxCapture.index"
   ]
  },
  {
   "cell_type": "markdown",
   "metadata": {},
   "source": [
    "In order to know how many 'days of data' we hav eper clinic, we need to know the date of every treatment in the clinics. This is where TMTstats is needed. A dataframe that contains the treatment date and treatment (control or treatment) per medical unit. "
   ]
  },
  {
   "cell_type": "code",
   "execution_count": 7,
   "metadata": {
    "collapsed": true
   },
   "outputs": [],
   "source": [
    "#Now we need to get the relevant treatment dates per clinic in the dataset given the treatment dates. \n",
    "TMTstats = pd.read_table('DATA/TMTstats.csv')\n",
    "\n",
    "colsEng = ['index','Medical_unit','Treatment','TMTdate']\n",
    "TMTstats.columns = colsEng\n",
    "TMTstats.TMTdate = pd.to_datetime(TMTstats.TMTdate,format = '%Y-%m-%d')\n",
    "\n",
    "TMTstats = pd.merge(TMTstats[['Medical_unit','Treatment','TMTdate']], \n",
    "                    MaxCapture, how='left')\n",
    "\n",
    "TMTstats['MaxTurnaround'] = TMTstats['Capture']-(TMTstats['TMTdate']+pd.to_timedelta(30,unit = 'd'))\n"
   ]
  },
  {
   "cell_type": "markdown",
   "metadata": {},
   "source": [
    "Once we have this, we will only look at tests (across all years) that took less than our \"data window\" in the treatment year"
   ]
  },
  {
   "cell_type": "code",
   "execution_count": 8,
   "metadata": {
    "collapsed": true
   },
   "outputs": [],
   "source": [
    "CACUcut = pd.merge(CACU,TMTstats[['Medical_unit','MaxTurnaround']],how='left')\n",
    "\n",
    "#Fill the clinics that are not in the TMTstats database with the mean\n",
    "CACUcut['MaxTurnaround']= CACUcut['MaxTurnaround'].fillna(TMTstats['MaxTurnaround'].mean())\n",
    "\n",
    "CACUcut.Turnaround = pd.to_timedelta(CACUcut.Turnaround, unit = 'D')\n",
    "\n",
    "CACUcut = CACUcut[CACUcut.Turnaround<=CACUcut.MaxTurnaround]\n",
    "\n",
    "#Now only the clinics we want:\n",
    "CACUcut = CACUcut[CACUcut.Medical_unit.isin(set(TMTstats.Medical_unit))]\n"
   ]
  },
  {
   "cell_type": "markdown",
   "metadata": {},
   "source": [
    "Now we need to get the data in shape. The lab files are ``stacked``, that is, they contain every test that the lab made, including more than one test per patient. What we need is patient histories, a dataframe indexed by (unique) patient that lists, in the columns all the dates that patients got the tests. "
   ]
  },
  {
   "cell_type": "code",
   "execution_count": 9,
   "metadata": {
    "collapsed": true
   },
   "outputs": [],
   "source": [
    "## Now we need to see by patients, who got a test and how many times in order to\n",
    "#construct patient histories. Missing values are all zeroes or all 8's, so let's\n",
    "#get rid of them:\n",
    "    \n",
    "CACUcut = CACUcut[CACUcut.Patient.str.contains('8888888888|0000000000') == False]\n",
    "\n",
    "#Now let's make a unique patient database with all the tests each patient got\n",
    "# every column is a new test, with the date. \n",
    "\n",
    "CACUcut = CACUcut.sort_values(['Patient','Date_Request'],ascending=True,axis=0)\n",
    "\n",
    "list = CACUcut.groupby('Patient').apply(lambda x: range(len(x))).tolist()\n",
    "loop = [val for sublist in list for val in sublist]\n",
    "CACUcut['obs']=loop\n",
    "\n",
    "\n",
    "CACUwide = CACUcut[['Patient','Date_Request','obs']].pivot(index='Patient',\n",
    "                 columns= 'obs', values='Date_Request')\n"
   ]
  },
  {
   "cell_type": "code",
   "execution_count": 10,
   "metadata": {
    "collapsed": true
   },
   "outputs": [],
   "source": [
    "colsEng = [str(x) for x in range(0,9)]\n",
    "colsEng = ['Date.' + s for s in colsEng]\n",
    "\n",
    "CACUwide.columns = colsEng\n"
   ]
  },
  {
   "cell_type": "markdown",
   "metadata": {},
   "source": [
    "# Determining Eligibility"
   ]
  },
  {
   "cell_type": "markdown",
   "metadata": {},
   "source": [
    "The rule for determining eligibility of the test is the following:\n",
    "\n",
    "    -Every woman between the ages of 25 and 65 (the whole database) needs one test every year. \n",
    "    -Except if a woman has had two consecutive negative tests in the two previous years she can go 3 years without the test. \n",
    "    -We can determine this from the lab files (without looking at doctor visits), by creating a window of time that every patient is covered after a test, and compare it to when she got the tests from her histories. \n",
    "    - We will code this as 'HT' for when a woman got a test she needed, and 'HNT' for when she got a test she did not need. "
   ]
  },
  {
   "cell_type": "code",
   "execution_count": 11,
   "metadata": {
    "collapsed": true
   },
   "outputs": [],
   "source": [
    "colsEng = [str(x) for x in range(0,9)]\n",
    "colsEng = ['Elegible.' + s for s in colsEng]\n",
    "\n",
    "CACUwide = pd.concat([CACUwide,pd.DataFrame(columns=colsEng)])\n",
    "\n",
    "#The first one, since there is no previous one, is always needed\n",
    "CACUwide['Elegible.0'] = 'HT'\n",
    "\n",
    "CACUwide['B_Cper.0'] = CACUwide.iloc[:,0]\n",
    "CACUwide['E_Cper.0'] = CACUwide.iloc[:,0]+pd.to_timedelta(365,unit ='D')\n"
   ]
  },
  {
   "cell_type": "code",
   "execution_count": 12,
   "metadata": {
    "collapsed": true
   },
   "outputs": [],
   "source": [
    "for i in range(0,8):\n",
    "#first find the relevant columns for each date\n",
    "    cols = CACUwide.columns.values.tolist()\n",
    "    cols = [cols.index(s) for s in cols if str(i) in s]\n",
    "#then, based on the period covered determine if that date was within covered period (HNT) or not (HT)\n",
    "    CACUwide.iloc[:,cols[1]+1] = np.where(CACUwide.iloc[:,cols[0]+1]<=CACUwide.iloc[:,cols[3]],\n",
    "    'HNT','HT')\n",
    "    CACUwide.iloc[:,cols[1]+1] = np.where(pd.isnull(CACUwide.iloc[:,cols[0]+1])==True,\n",
    "    CACUwide.iloc[:,cols[0]+1],CACUwide.iloc[:,cols[1]+1])\n",
    "#then determine new covered period\n",
    "#first, if test was done but not needed, just add 365 to E_Pc\n",
    "    CACUwide.iloc[:,cols[3]]= np.where(CACUwide.iloc[:,cols[1]+1]=='HNT',\n",
    "    CACUwide.iloc[:,cols[0]+1]+pd.to_timedelta(365,unit='D'),CACUwide.iloc[:,cols[3]])\n",
    "#Then create new columns for Beginning and end of coverage period\n",
    "    CACUwide['B_Cper.' + str(i+1)] = pd.to_datetime('nan')\n",
    "    CACUwide['E_Cper.' + str(i+1)] = pd.to_datetime('nan')\n",
    "#Then fill them with the date, and the date+365 if the patient got the test\n",
    "#the beginning of the coverage period is always the date request\n",
    "    CACUwide.iloc[:,cols[3]+1] = np.where(CACUwide.iloc[:,cols[1]+1]=='HT',\n",
    "    CACUwide.iloc[:,cols[0]+1],CACUwide.iloc[:,cols[3]+1])\n",
    "#the end is more complicated. there are three cases if she's had two in the past years:\n",
    "    CACUwide.iloc[:,cols[3]+2] = np.where((CACUwide.iloc[:,cols[1]+1]=='HT') &\n",
    "    (CACUwide.iloc[:,cols[0]+1]-CACUwide.iloc[:,cols[0]]<pd.to_timedelta(400,unit='D')),\n",
    "    CACUwide.iloc[:,cols[0]+1]+pd.to_timedelta(1095,unit ='D'),CACUwide.iloc[:,cols[3]+1])\n",
    "#if she hasn't she needs another one next year\n",
    "    CACUwide.iloc[:,cols[3]+2] = np.where((CACUwide.iloc[:,cols[1]+1]=='HT') &\n",
    "    (CACUwide.iloc[:,cols[0]+1]-CACUwide.iloc[:,cols[0]]>=pd.to_timedelta(400,unit='D')),\n",
    "    CACUwide.iloc[:,cols[0]+1]+pd.to_timedelta(365,unit ='D'),CACUwide.iloc[:,cols[3]+1])\n",
    "#and if she didn't need it she just gets +365\n",
    "    CACUwide.iloc[:,cols[3]+2] = np.where(CACUwide.iloc[:,cols[1]+1]=='HNT',\n",
    "    CACUwide.iloc[:,cols[0]+1]+pd.to_timedelta(365,unit ='D'),CACUwide.iloc[:,cols[3]+1])\n",
    "#and then the ones we didn't categorize we just import the old coverage period\n",
    "    CACUwide.iloc[:,cols[3]+1] = np.where((pd.isnull(CACUwide.iloc[:,cols[1]+1])==False) &\n",
    "    (pd.isnull(CACUwide.iloc[:,cols[3]+1])==True),CACUwide.iloc[:,cols[2]],CACUwide.iloc[:,cols[3]+1])\n",
    "    CACUwide.iloc[:,cols[3]+2] = np.where((pd.isnull(CACUwide.iloc[:,cols[1]+1])==False) &\n",
    "    (pd.isnull(CACUwide.iloc[:,cols[3]+2])==True),CACUwide.iloc[:,cols[3]],CACUwide.iloc[:,cols[3]+2])\n"
   ]
  },
  {
   "cell_type": "markdown",
   "metadata": {},
   "source": [
    "This gives us a dataframe that is:\n",
    "    a) unique by patient \n",
    "    b) contains a list (in columns) of the test each patient got\n",
    "    c) for each test, can tell us whether the patient needed the test or not\n",
    "    d) contains windows of coverage (indexed from B_Cper.0 to B_Cper.8 and E_Cper.0 to E_Cper.8) that represent the time intervals in the dataframe where each patient was 'covered', that is, a doctor visit between B_Cper.x and E_Cper.x does not need a pap spear. \n",
    "    \n",
    "The next step will be to merge this dataframe with the doctor visits. "
   ]
  },
  {
   "cell_type": "code",
   "execution_count": 14,
   "metadata": {
    "collapsed": true
   },
   "outputs": [],
   "source": [
    "CACUwide.to_csv('CACUwide.csv')"
   ]
  },
  {
   "cell_type": "code",
   "execution_count": null,
   "metadata": {
    "collapsed": true
   },
   "outputs": [],
   "source": []
  }
 ],
 "metadata": {
  "anaconda-cloud": {},
  "kernelspec": {
   "display_name": "Python [conda root]",
   "language": "python",
   "name": "conda-root-py"
  },
  "language_info": {
   "codemirror_mode": {
    "name": "ipython",
    "version": 3
   },
   "file_extension": ".py",
   "mimetype": "text/x-python",
   "name": "python",
   "nbconvert_exporter": "python",
   "pygments_lexer": "ipython3",
   "version": "3.5.2"
  }
 },
 "nbformat": 4,
 "nbformat_minor": 1
}
