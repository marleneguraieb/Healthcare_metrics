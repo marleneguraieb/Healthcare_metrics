{
 "cells": [
  {
   "cell_type": "markdown",
   "metadata": {},
   "source": [
    "# Merging labs and visits"
   ]
  },
  {
   "cell_type": "code",
   "execution_count": 1,
   "metadata": {
    "collapsed": true
   },
   "outputs": [],
   "source": [
    "import pandas as pd\n",
    "import numpy as np\n",
    "import matplotlib\n",
    "import matplotlib.pyplot as plt\n",
    "import os\n",
    "from datetime import timedelta\n",
    "\n",
    "matplotlib.style.use('ggplot') # Look Pretty\n",
    "\n",
    "os.chdir('/Users/marleneguraieb/Google Drive/Healthcare_metrics')"
   ]
  },
  {
   "cell_type": "markdown",
   "metadata": {},
   "source": [
    "I start from the two databases that contain:\n",
    "    - CACU: all the lab files (which we cleaned and edited in the last notebook)\n",
    "    - SIAIS: all the visits to the clinic of our target group (women between 25 and 65)"
   ]
  },
  {
   "cell_type": "code",
   "execution_count": 4,
   "metadata": {
    "collapsed": false
   },
   "outputs": [],
   "source": [
    "CACU = pd.read_csv('DATA/CACUwide.csv',low_memory=False)\n",
    "SIAIS = pd.read_csv('DATA/SIAIS.csv')"
   ]
  },
  {
   "cell_type": "markdown",
   "metadata": {},
   "source": [
    "Now make dates dates and use the index as patient."
   ]
  },
  {
   "cell_type": "code",
   "execution_count": 11,
   "metadata": {
    "collapsed": false
   },
   "outputs": [],
   "source": [
    "cols = CACU.columns.values.tolist()\n",
    "\n",
    "cols1 = [cols.index(s) for s in cols if 'Date' in s]\n",
    "cols2 = [cols.index(s) for s in cols if '_Cper' in s]\n",
    "cols = cols1 + cols2\n",
    "\n",
    "for i in range(0,26):\n",
    "    CACU.iloc[:,cols[i]] = pd.to_datetime(CACU.iloc[:,cols[i]], format='%Y-%m-%d')\n",
    "    \n",
    " CACU = CACU.rename(columns = {'paciente':'Patient'})"
   ]
  },
  {
   "cell_type": "code",
   "execution_count": 17,
   "metadata": {
    "collapsed": false
   },
   "outputs": [],
   "source": [
    "SIAIS['fecha'] = pd.to_datetime(SIAIS['fecha'], format='%Y-%m-%d')\n",
    "SIAIS = SIAIS[['unidadmedica', 'paciente', 'fecha', 'matricula', 'Cacu']]\n",
    "\n",
    "colsEng = ['Medical_unit','Patient','Date','NurseID','Cacu']\n",
    "\n",
    "SIAIS.columns = colsEng\n",
    "\n",
    "SIAIS['NurseID'] = SIAIS['NurseID'].astype('category')"
   ]
  },
  {
   "cell_type": "markdown",
   "metadata": {},
   "source": [
    "Now we create a df called TWT (the whole thing), that merges the history of every patient in the lab test db, with every visit to the doctor of that patient. This is necessary to determine eligibility for each visit to the doctor. "
   ]
  },
  {
   "cell_type": "code",
   "execution_count": 25,
   "metadata": {
    "collapsed": false
   },
   "outputs": [],
   "source": [
    "TWT = pd.merge(SIAIS, CACU, how='left', on='Patient', \n",
    "               sort=True, suffixes=('_x', '_y'), copy=True)"
   ]
  },
  {
   "cell_type": "markdown",
   "metadata": {},
   "source": [
    "# Determining whether the test got done"
   ]
  },
  {
   "cell_type": "markdown",
   "metadata": {},
   "source": [
    "Now we have to determine whether each patient was elegible for a test at the time she went to the doctor. For this we will need the new df (TWT), because it contains the patient history for every patient in every medical visit. The first thing we know, is that if the patient has never had a test, then she was eligible to get one, so if the first test date is empty, we know it's ``'NHT'''"
   ]
  },
  {
   "cell_type": "code",
   "execution_count": 27,
   "metadata": {
    "collapsed": false
   },
   "outputs": [],
   "source": [
    "TWT['Tested'] = np.nan\n",
    "\n",
    "TWT.ix[pd.isnull(TWT['Date.0'])==True,'Tested'] = \"NHT\""
   ]
  },
  {
   "cell_type": "markdown",
   "metadata": {},
   "source": [
    "First, if the date of the consult matches the date of the test (+/- 28 days, for capture error and delays), then we consider the test made:"
   ]
  },
  {
   "cell_type": "code",
   "execution_count": 29,
   "metadata": {
    "collapsed": false
   },
   "outputs": [],
   "source": [
    "for i in range(0,8):\n",
    "#first find the relevant columns for each date\n",
    "    cols = TWT.columns.values.tolist()\n",
    "    cols = [cols.index(s) for s in cols if str(i) in s]\n",
    "    TWT.ix[(TWT['Date']>= TWT.iloc[:,cols[0]]-pd.to_timedelta(28,unit ='D')) &\n",
    "        (TWT['Date']<= TWT.iloc[:,cols[0]]+pd.to_timedelta(28,unit ='D')),'Tested'] = TWT.iloc[:,cols[1]]"
   ]
  },
  {
   "cell_type": "markdown",
   "metadata": {},
   "source": [
    "Then, if it doesn't match but the visit is inside the \"covered periods\" determined by the periods between lab visits, then we consider the test not needed:"
   ]
  },
  {
   "cell_type": "code",
   "execution_count": 30,
   "metadata": {
    "collapsed": true
   },
   "outputs": [],
   "source": [
    "for i in range(0,8):\n",
    "#first find the relevant columns for each date\n",
    "    cols = TWT.columns.values.tolist()\n",
    "    cols = [cols.index(s) for s in cols if str(i) in s]\n",
    "    TWT['Tested']= np.where((TWT['Date']>= TWT.iloc[:,cols[2]]) & \n",
    "                            (TWT['Date']<= TWT.iloc[:,cols[3]]) & \n",
    "                            (pd.isnull(TWT['Tested'])==True),'NHNT',TWT['Tested'])"
   ]
  },
  {
   "cell_type": "markdown",
   "metadata": {},
   "source": [
    "Finally, if none of these things is true, then the patient needed a test and didn't get one. '"
   ]
  },
  {
   "cell_type": "code",
   "execution_count": 31,
   "metadata": {
    "collapsed": true
   },
   "outputs": [],
   "source": [
    "TWT.Tested = TWT.Tested.fillna('NHT')"
   ]
  },
  {
   "cell_type": "markdown",
   "metadata": {},
   "source": [
    "Now we have TWT.Tested that encodes the four possibilites for every test. Let's see how that looks. It appears we only have 12% average hit rate (patients who needed tests and got them); a further 10% of patients did not get tests but did not need them, and 77% of patients needed a test but did not get one. "
   ]
  },
  {
   "cell_type": "code",
   "execution_count": 34,
   "metadata": {
    "collapsed": false
   },
   "outputs": [
    {
     "data": {
      "text/plain": [
       "NHT     0.767523\n",
       "HT      0.123668\n",
       "NHNT    0.101945\n",
       "HNT     0.006864\n",
       "Name: Tested, dtype: float64"
      ]
     },
     "execution_count": 34,
     "metadata": {},
     "output_type": "execute_result"
    }
   ],
   "source": [
    "TWT.Tested.value_counts(normalize=True)"
   ]
  },
  {
   "cell_type": "markdown",
   "metadata": {},
   "source": [
    "Now all we need from this dataset is the 'Tested column', I can get rid of everything else because all the information is now contained in that. "
   ]
  },
  {
   "cell_type": "code",
   "execution_count": null,
   "metadata": {
    "collapsed": true
   },
   "outputs": [],
   "source": [
    "TWT.to_csv('TWT.csv')\n",
    "\n",
    "TWT = TWT[['Medical_unit','NurseID','Date','Cacu','Tested']]"
   ]
  },
  {
   "cell_type": "markdown",
   "metadata": {},
   "source": [
    "Now I need to get a) dummies for each of the possible t, and then compare self-reported scores (whether the nurse claimed to have done the test or not) with whether the test was done or not. (These will be our measures of honesty for the nurses). "
   ]
  },
  {
   "cell_type": "code",
   "execution_count": 35,
   "metadata": {
    "collapsed": true
   },
   "outputs": [],
   "source": [
    "TWT = pd.concat([TWT, pd.get_dummies(TWT['Tested'])],axis=1)\n",
    "\n",
    "TWT['Self_rep'] = np.nan\n",
    "TWT.ix[(TWT['Cacu'].isin([1,2])) & (TWT['Tested'].isin(['HT','HNT'])),'Self_rep'] = 'Said1or2LabYes'\n",
    "TWT.ix[(TWT['Cacu'].isin([1,2])) & (TWT['Tested'].isin(['NHT','NHNT'])),'Self_rep'] = 'Said1or2LabNo'\n",
    "TWT.ix[(TWT['Cacu']==9) & (TWT['Tested'].isin(['HT','HNT'])),'Self_rep'] = 'Said9LabYes'\n",
    "TWT.ix[(TWT['Cacu']==9) & (TWT['Tested'].isin(['NHT','NHNT'])),'Self_rep'] = 'Said9LabNo'\n",
    "TWT.ix[(TWT['Cacu']==0) & (TWT['Tested'].isin(['HT','HNT'])),'Self_rep'] = 'Said0LabYes'\n",
    "TWT.ix[(TWT['Cacu']==0) & (TWT['Tested'].isin(['NHT','NHNT'])),'Self_rep'] = 'Said0LabNo'\n",
    "\n",
    "TWT = pd.concat([TWT, pd.get_dummies(TWT['Self_rep'])],axis=1)"
   ]
  },
  {
   "cell_type": "markdown",
   "metadata": {},
   "source": [
    "# Combining with TMT stats to determine relevant dates."
   ]
  },
  {
   "cell_type": "markdown",
   "metadata": {},
   "source": [
    "To do this, we need a dataframe that contains every nurse that received a treatment in our sample (for each possible treatment), as well as the treatment date. This is because we will calculate Average Treatment effects as the difference in behavior 30 days before the treatment and 30 days after the treatment. "
   ]
  },
  {
   "cell_type": "code",
   "execution_count": 41,
   "metadata": {
    "collapsed": false
   },
   "outputs": [],
   "source": [
    "TMTstatsN = pd.read_table('DATA/TMTstatsNurses.csv')\n",
    "TMTstatsN['TMT_Date'] = pd.to_datetime(TMTstatsN['TMT_Date'], format='%Y-%m-%d')"
   ]
  },
  {
   "cell_type": "markdown",
   "metadata": {},
   "source": [
    "Our sample is composed of:\n",
    "    - 315 nurses who were working on the median date of our treatments on the clinics selected for the no treatment (cero group) \n",
    "    - 107 nurses who received only an exhortation (control group) \n",
    "    - 151 nurses that received a letter containing their average score (feedback group)\n",
    "    - 146 nurses that received a letter containing their average score + a request to give explanations about their behavior (reasons group)"
   ]
  },
  {
   "cell_type": "code",
   "execution_count": 42,
   "metadata": {
    "collapsed": false
   },
   "outputs": [
    {
     "data": {
      "text/html": [
       "<div>\n",
       "<table border=\"1\" class=\"dataframe\">\n",
       "  <thead>\n",
       "    <tr style=\"text-align: right;\">\n",
       "      <th>treatment</th>\n",
       "      <th>cero</th>\n",
       "      <th>control</th>\n",
       "      <th>feedback</th>\n",
       "      <th>reasons</th>\n",
       "      <th>All</th>\n",
       "    </tr>\n",
       "    <tr>\n",
       "      <th>Received</th>\n",
       "      <th></th>\n",
       "      <th></th>\n",
       "      <th></th>\n",
       "      <th></th>\n",
       "      <th></th>\n",
       "    </tr>\n",
       "  </thead>\n",
       "  <tbody>\n",
       "    <tr>\n",
       "      <th>1</th>\n",
       "      <td>0</td>\n",
       "      <td>107</td>\n",
       "      <td>151</td>\n",
       "      <td>146</td>\n",
       "      <td>404</td>\n",
       "    </tr>\n",
       "    <tr>\n",
       "      <th>99</th>\n",
       "      <td>315</td>\n",
       "      <td>0</td>\n",
       "      <td>0</td>\n",
       "      <td>0</td>\n",
       "      <td>315</td>\n",
       "    </tr>\n",
       "    <tr>\n",
       "      <th>All</th>\n",
       "      <td>315</td>\n",
       "      <td>107</td>\n",
       "      <td>151</td>\n",
       "      <td>146</td>\n",
       "      <td>719</td>\n",
       "    </tr>\n",
       "  </tbody>\n",
       "</table>\n",
       "</div>"
      ],
      "text/plain": [
       "treatment  cero  control  feedback  reasons  All\n",
       "Received                                        \n",
       "1             0      107       151      146  404\n",
       "99          315        0         0        0  315\n",
       "All         315      107       151      146  719"
      ]
     },
     "execution_count": 42,
     "metadata": {},
     "output_type": "execute_result"
    }
   ],
   "source": [
    "pd.crosstab(TMTstatsN.Received,TMTstatsN.treatment,margins=True)"
   ]
  },
  {
   "cell_type": "code",
   "execution_count": 43,
   "metadata": {
    "collapsed": true
   },
   "outputs": [],
   "source": [
    "TWT = pd.merge(TWT,TMTstatsN[['NurseID', 'ExpectedUnitAtTMT',\n",
    "'Grade_received','treatment', 'Received', 'TMT_Date']],on='NurseID',how='left')"
   ]
  },
  {
   "cell_type": "markdown",
   "metadata": {},
   "source": [
    "Now let's calculate which visits took place 30 days before and after receiving the letter (both in 2013 and in 2014). The past year's performance will be needed to de-trend the data."
   ]
  },
  {
   "cell_type": "code",
   "execution_count": 45,
   "metadata": {
    "collapsed": false
   },
   "outputs": [],
   "source": [
    "TWT['TMT_time'] = np.nan\n",
    "\n",
    "TWT.ix[(TWT['Date']>=TWT['TMT_Date']-pd.to_timedelta(395, unit='D')) \n",
    "     & (TWT['Date']<TWT['TMT_Date']-pd.to_timedelta(365, unit='D')),'TMT_time'] = 't_0_2013'\n",
    "TWT.ix[(TWT['Date']>=TWT['TMT_Date']-pd.to_timedelta(365, unit='D')) \n",
    "     & (TWT['Date']<TWT['TMT_Date']-pd.to_timedelta(335, unit='D')),'TMT_time'] = 't_1_2013'\n",
    "TWT.ix[(TWT['Date']>=TWT['TMT_Date']-pd.to_timedelta(30, unit='D')) \n",
    "     & (TWT['Date']<TWT['TMT_Date']),'TMT_time'] = 't_0_2014'\n",
    "TWT.ix[(TWT['Date']>=TWT['TMT_Date']) \n",
    "     & (TWT['Date']<TWT['TMT_Date']+pd.to_timedelta(30, unit='D')),'TMT_time'] = 't_1_2014'\n"
   ]
  },
  {
   "cell_type": "markdown",
   "metadata": {},
   "source": [
    "Now that we have flagged these four groups ($t_0$ and $t_1$ for 2013 and 2014), we can have a dataframe with only those visits, sorted by nurse and TMT_time (in order to calculate the grades based on that time period alone)."
   ]
  },
  {
   "cell_type": "code",
   "execution_count": 46,
   "metadata": {
    "collapsed": true
   },
   "outputs": [],
   "source": [
    "TWT['TMT_time'] = TWT['TMT_time'].astype('category')\n",
    "\n",
    "ATEconsults = TWT[pd.isnull(TWT['TMT_time'])==False]\n",
    "\n",
    "ATEconsults = ATEconsults.sort_values(['NurseID',\n",
    "                            'TMT_time','Date','Tested'], axis=0, ascending=True)\n",
    "list = ATEconsults.groupby(['NurseID','TMT_time']).apply(lambda x:\n",
    "                                                        range(len(x))).tolist()\n",
    "loop = [val for sublist in list for val in sublist]\n",
    "ATEconsults['NumConsPer']=loop"
   ]
  },
  {
   "cell_type": "code",
   "execution_count": null,
   "metadata": {
    "collapsed": true
   },
   "outputs": [],
   "source": [
    "ATEconsults.to_csv('DATA/ATEconsults.csv')"
   ]
  },
  {
   "cell_type": "markdown",
   "metadata": {},
   "source": [
    "# Calculating dependent variables by nurse"
   ]
  },
  {
   "cell_type": "code",
   "execution_count": 47,
   "metadata": {
    "collapsed": true
   },
   "outputs": [],
   "source": [
    "#This is our main dependent variable. How many tests that were needed (HT) did the nurse get done as a percentage \n",
    "#percentage of all the patients that went to consult with her and needed a test (HT+NHT).\n",
    "Grade1 = lambda g: ATEconsults.ix[g.index].HT.sum()/(\n",
    "            ATEconsults.ix[g.index].HT.sum()+ATEconsults.ix[g.index].NHT.sum())"
   ]
  },
  {
   "cell_type": "code",
   "execution_count": 48,
   "metadata": {
    "collapsed": true
   },
   "outputs": [],
   "source": [
    "#This is the ``honesty rate'': the percentage of times that the patient needed a test, did not get one and the nurse \n",
    "#correctly said she did not give the patient a test.\n",
    "Said0LabNo = lambda g: ATEconsults.ix[g.index].Said0LabNo.sum()/(\n",
    "            ATEconsults.ix[g.index].NHT.sum())"
   ]
  },
  {
   "cell_type": "code",
   "execution_count": 49,
   "metadata": {
    "collapsed": true
   },
   "outputs": [],
   "source": [
    "#This is the ``excuse rate'': the percentage of times that the nurse claimed the patient had an (unverifyable) excuse\n",
    "#and did not give her a test. \n",
    "Said9LabNo = lambda g: ATEconsults.ix[g.index].Said9LabNo.sum()/(\n",
    "            ATEconsults.ix[g.index].NumConsPer.max()+1)"
   ]
  },
  {
   "cell_type": "code",
   "execution_count": 50,
   "metadata": {
    "collapsed": true
   },
   "outputs": [],
   "source": [
    "#This is the ``lying rate'' the number of times that a nurse claimed she did a test (said 1 or 2) and did the test\n",
    "#over the number of times she claimed to have done a test \n",
    "Said1or2Lab0_Said1 = lambda g: 'nan' if ATEconsults.ix[g.index].Said1or2LabNo.sum()+ ATEconsults.ix[g.index].Said1or2LabYes.sum()==0 else ATEconsults.ix[g.index].Said1or2LabNo.sum()/(\n",
    "            ATEconsults.ix[g.index].Said1or2LabNo.sum()+ATEconsults.ix[g.index].Said1or2LabYes.sum())"
   ]
  },
  {
   "cell_type": "code",
   "execution_count": 51,
   "metadata": {
    "collapsed": true
   },
   "outputs": [],
   "source": [
    "#these are unique variables that we need in the dataframe that is by nurse:\n",
    "\n",
    "NumConsPer = lambda g: ATEconsults.ix[g.index].NumConsPer.max()+1\n",
    "treatment = lambda g: str(ATEconsults.ix[g.index].treatment.unique()[0])\n",
    "TMT_Date = lambda g: str(ATEconsults.ix[g.index].TMT_Date.unique()[0])\n",
    "Received = lambda g: str(ATEconsults.ix[g.index].Received.unique()[0])\n",
    "ExpectedUnitAtTMT = lambda g: str(ATEconsults.ix[g.index].ExpectedUnitAtTMT.unique()[0])"
   ]
  },
  {
   "cell_type": "markdown",
   "metadata": {},
   "source": [
    "Now we create a dictionary with all these functions to aggregate the by consult table:"
   ]
  },
  {
   "cell_type": "code",
   "execution_count": 52,
   "metadata": {
    "collapsed": true
   },
   "outputs": [],
   "source": [
    "f = {'HT': {'Grade1': Grade1},\n",
    "     'Said0LabNo' : {'Said0LabNo_Toc': Said0LabNo},\n",
    "     'Said9LabNo': {'Said9LabNo_cons': Said9LabNo},\n",
    "     'Said1or2LabNo': {'Said1or2Lab0_Said1': Said1or2Lab0_Said1},\n",
    "     'NumConsPer': {'NumConsPer': NumConsPer},\n",
    "     'treatment' : {'treatment' : treatment},\n",
    "     'TMT_Date' : {'TMT_Date': TMT_Date},\n",
    "     'Received' : {'Received': Received},\n",
    "     'ExpectedUnitAtTMT' : {'ExpectedUnitAtTMT': ExpectedUnitAtTMT}}"
   ]
  },
  {
   "cell_type": "code",
   "execution_count": 56,
   "metadata": {
    "collapsed": true
   },
   "outputs": [],
   "source": [
    "ATEbyNurse = ATEconsults.groupby(['NurseID','TMT_time']).agg(f)"
   ]
  },
  {
   "cell_type": "code",
   "execution_count": 57,
   "metadata": {
    "collapsed": false
   },
   "outputs": [
    {
     "data": {
      "text/plain": [
       "array([('Said1or2LabNo', 'Said1or2Lab0_Said1'), ('treatment', 'treatment'),\n",
       "       ('Said9LabNo', 'Said9LabNo_cons'), ('Said0LabNo', 'Said0LabNo_Toc'),\n",
       "       ('Received', 'Received'), ('TMT_Date', 'TMT_Date'),\n",
       "       ('ExpectedUnitAtTMT', 'ExpectedUnitAtTMT'),\n",
       "       ('NumConsPer', 'NumConsPer'), ('HT', 'Grade1')], dtype=object)"
      ]
     },
     "execution_count": 57,
     "metadata": {},
     "output_type": "execute_result"
    }
   ],
   "source": [
    "ATEbyNurse.columns.values"
   ]
  },
  {
   "cell_type": "code",
   "execution_count": 58,
   "metadata": {
    "collapsed": true
   },
   "outputs": [],
   "source": [
    "colsEng = ['Said1or2LabNo_Said1','treatment', 'Said9LabNo_cons', 'Said0LabNo_Toc', 'Received', 'TMT_Date',\n",
    " 'ExpectedUnitAtTMT','NumConsPer', 'Grade1']\n",
    "\n",
    "ATEbyNurse.columns = colsEng"
   ]
  },
  {
   "cell_type": "code",
   "execution_count": 59,
   "metadata": {
    "collapsed": false
   },
   "outputs": [
    {
     "name": "stderr",
     "output_type": "stream",
     "text": [
      "//anaconda/lib/python3.5/site-packages/numpy/lib/function_base.py:3834: RuntimeWarning: Invalid value encountered in percentile\n",
      "  RuntimeWarning)\n"
     ]
    },
    {
     "data": {
      "text/html": [
       "<div>\n",
       "<table border=\"1\" class=\"dataframe\">\n",
       "  <thead>\n",
       "    <tr style=\"text-align: right;\">\n",
       "      <th></th>\n",
       "      <th>Said1or2LabNo_Said1</th>\n",
       "      <th>Said9LabNo_cons</th>\n",
       "      <th>Said0LabNo_Toc</th>\n",
       "      <th>Received</th>\n",
       "      <th>NumConsPer</th>\n",
       "      <th>Grade1</th>\n",
       "    </tr>\n",
       "  </thead>\n",
       "  <tbody>\n",
       "    <tr>\n",
       "      <th>count</th>\n",
       "      <td>2365.000000</td>\n",
       "      <td>2417.000000</td>\n",
       "      <td>2417.000000</td>\n",
       "      <td>2417.000000</td>\n",
       "      <td>2417.000000</td>\n",
       "      <td>2417.000000</td>\n",
       "    </tr>\n",
       "    <tr>\n",
       "      <th>mean</th>\n",
       "      <td>0.550431</td>\n",
       "      <td>0.450120</td>\n",
       "      <td>0.277408</td>\n",
       "      <td>40.613571</td>\n",
       "      <td>142.122880</td>\n",
       "      <td>0.174342</td>\n",
       "    </tr>\n",
       "    <tr>\n",
       "      <th>std</th>\n",
       "      <td>0.345180</td>\n",
       "      <td>0.271662</td>\n",
       "      <td>0.251965</td>\n",
       "      <td>48.102518</td>\n",
       "      <td>70.231042</td>\n",
       "      <td>0.147205</td>\n",
       "    </tr>\n",
       "    <tr>\n",
       "      <th>min</th>\n",
       "      <td>0.000000</td>\n",
       "      <td>0.000000</td>\n",
       "      <td>0.000000</td>\n",
       "      <td>1.000000</td>\n",
       "      <td>1.000000</td>\n",
       "      <td>0.000000</td>\n",
       "    </tr>\n",
       "    <tr>\n",
       "      <th>25%</th>\n",
       "      <td>NaN</td>\n",
       "      <td>0.215190</td>\n",
       "      <td>0.094488</td>\n",
       "      <td>1.000000</td>\n",
       "      <td>110.000000</td>\n",
       "      <td>0.032468</td>\n",
       "    </tr>\n",
       "    <tr>\n",
       "      <th>50%</th>\n",
       "      <td>NaN</td>\n",
       "      <td>0.495868</td>\n",
       "      <td>0.207101</td>\n",
       "      <td>1.000000</td>\n",
       "      <td>141.000000</td>\n",
       "      <td>0.160256</td>\n",
       "    </tr>\n",
       "    <tr>\n",
       "      <th>75%</th>\n",
       "      <td>NaN</td>\n",
       "      <td>0.668639</td>\n",
       "      <td>0.380952</td>\n",
       "      <td>99.000000</td>\n",
       "      <td>169.000000</td>\n",
       "      <td>0.274336</td>\n",
       "    </tr>\n",
       "    <tr>\n",
       "      <th>max</th>\n",
       "      <td>1.000000</td>\n",
       "      <td>1.000000</td>\n",
       "      <td>2.000000</td>\n",
       "      <td>99.000000</td>\n",
       "      <td>1050.000000</td>\n",
       "      <td>0.900000</td>\n",
       "    </tr>\n",
       "  </tbody>\n",
       "</table>\n",
       "</div>"
      ],
      "text/plain": [
       "       Said1or2LabNo_Said1  Said9LabNo_cons  Said0LabNo_Toc     Received  \\\n",
       "count          2365.000000      2417.000000     2417.000000  2417.000000   \n",
       "mean              0.550431         0.450120        0.277408    40.613571   \n",
       "std               0.345180         0.271662        0.251965    48.102518   \n",
       "min               0.000000         0.000000        0.000000     1.000000   \n",
       "25%                    NaN         0.215190        0.094488     1.000000   \n",
       "50%                    NaN         0.495868        0.207101     1.000000   \n",
       "75%                    NaN         0.668639        0.380952    99.000000   \n",
       "max               1.000000         1.000000        2.000000    99.000000   \n",
       "\n",
       "        NumConsPer       Grade1  \n",
       "count  2417.000000  2417.000000  \n",
       "mean    142.122880     0.174342  \n",
       "std      70.231042     0.147205  \n",
       "min       1.000000     0.000000  \n",
       "25%     110.000000     0.032468  \n",
       "50%     141.000000     0.160256  \n",
       "75%     169.000000     0.274336  \n",
       "max    1050.000000     0.900000  "
      ]
     },
     "execution_count": 59,
     "metadata": {},
     "output_type": "execute_result"
    }
   ],
   "source": [
    "ATEbyNurse.describe()"
   ]
  },
  {
   "cell_type": "code",
   "execution_count": null,
   "metadata": {
    "collapsed": true
   },
   "outputs": [],
   "source": [
    "ATEbyNurse.to_csv('DATA/ATEbyNurse.csv')"
   ]
  },
  {
   "cell_type": "markdown",
   "metadata": {},
   "source": [
    "This completes the code to calculate the grade in the four periods that we have: "
   ]
  },
  {
   "cell_type": "markdown",
   "metadata": {},
   "source": [
    "$$t_0^{2013}$$ thirty days before the treatment date the year prior to the treatment (for detrending);"
   ]
  },
  {
   "cell_type": "markdown",
   "metadata": {},
   "source": [
    "$$t_1^{2013}$$ thirty days after the treatment date the year prior the the treatment (for detrending);"
   ]
  },
  {
   "cell_type": "markdown",
   "metadata": {},
   "source": [
    "$$t_0^{2014}$$ thirty days before the treatment the year of the treatment;"
   ]
  },
  {
   "cell_type": "markdown",
   "metadata": {},
   "source": [
    "$$t_1^{2014}$$ thirty days after the treatment date the year of the treatment."
   ]
  },
  {
   "cell_type": "markdown",
   "metadata": {},
   "source": [
    "The next notebook will calculate the Average Treatment Effects combining these grades and the matching protocol done prior to the application of the treatment. "
   ]
  },
  {
   "cell_type": "markdown",
   "metadata": {
    "collapsed": true
   },
   "source": [
    "# Calculating grade differences by period"
   ]
  },
  {
   "cell_type": "code",
   "execution_count": 2,
   "metadata": {
    "collapsed": true
   },
   "outputs": [],
   "source": [
    "TMTstats = pd.read_table('DATA/TMTstats.csv')"
   ]
  },
  {
   "cell_type": "code",
   "execution_count": 4,
   "metadata": {
    "collapsed": false
   },
   "outputs": [],
   "source": [
    "TMTstats.TMTdate = pd.to_datetime(TMTstats.TMTdate,format = '%Y-%m-%d')"
   ]
  },
  {
   "cell_type": "code",
   "execution_count": 5,
   "metadata": {
    "collapsed": true
   },
   "outputs": [],
   "source": [
    "ATEbyNurse = pd.read_csv('DATA/ATEbyNurse.csv')"
   ]
  },
  {
   "cell_type": "code",
   "execution_count": 7,
   "metadata": {
    "collapsed": false
   },
   "outputs": [],
   "source": [
    "ATEbyNurse = pd.merge(ATEbyNurse,TMTstats[['Medical_unit', \n",
    "                                           'Treatment','MatchItCR','MatchItCC']],\n",
    "                      how = 'left',left_on = 'ExpectedUnitAtTMT', \n",
    "                      right_on = 'Medical_unit')"
   ]
  },
  {
   "cell_type": "markdown",
   "metadata": {},
   "source": [
    "First I have to get all the unique values here, because this dataset is in long format, it has every nurse for each of the time periods that are relevant, so I'm going to make a temporary dataset that contains all the unique values so taht I can merge it later when I transform to wide. "
   ]
  },
  {
   "cell_type": "code",
   "execution_count": 9,
   "metadata": {
    "collapsed": true
   },
   "outputs": [],
   "source": [
    "tempDF = ATEbyNurse[['NurseID','ExpectedUnitAtTMT', 'treatment', 'TMT_Date', 'Medical_unit',\n",
    "           'Treatment', 'MatchItCR', 'MatchItCC']].copy()\n",
    "tempDF = tempDF.drop_duplicates()"
   ]
  },
  {
   "cell_type": "markdown",
   "metadata": {},
   "source": [
    "Now use `pivot_table` to change data from long to wide: each nurse with each of her dependent variables for each time period is one observation. Also, rename the columns."
   ]
  },
  {
   "cell_type": "code",
   "execution_count": 10,
   "metadata": {
    "collapsed": true
   },
   "outputs": [],
   "source": [
    "ATEbyNurse = pd.pivot_table(ATEbyNurse, index=['NurseID'],columns='TMT_time',\n",
    "                                  values = ['NumConsPer','Grade1',\n",
    "                                         'Said1or2Lab0_Said1','Said9LabNo_cons',\n",
    "                                         'Said0LabNo_Toc'])\n",
    "ATEbyNurse.columns =[s1 +'_'+ str(s2) for (s1,s2) in ATEbyNurse.columns.tolist()]"
   ]
  },
  {
   "cell_type": "code",
   "execution_count": 11,
   "metadata": {
    "collapsed": true
   },
   "outputs": [],
   "source": [
    "ATEbyNurse = pd.merge(ATEbyNurse,tempDF,how='inner',left_index=True,right_on='NurseID')"
   ]
  },
  {
   "cell_type": "markdown",
   "metadata": {},
   "source": [
    "The following is a for loop to calculate the $t^{2014}$ and $t^{2013}$ differences as well as $t^{14}-t^{13}$ "
   ]
  },
  {
   "cell_type": "code",
   "execution_count": 12,
   "metadata": {
    "collapsed": true
   },
   "outputs": [],
   "source": [
    "cols = ATEbyNurse.columns.values.tolist()\n",
    "t_0_2013 = [cols.index(s) for s in cols if 't_0_2013' in s]\n",
    "t_1_2013 = [cols.index(s) for s in cols if 't_1_2013' in s]\n",
    "t_0_2014 = [cols.index(s) for s in cols if 't_0_2014' in s]\n",
    "t_1_2014 = [cols.index(s) for s in cols if 't_1_2014' in s]\n",
    "\n",
    "\n",
    "for i in range(0,5):\n",
    "    ATEbyNurse[ATEbyNurse.columns.tolist()[t_0_2013[i]].replace('_t_0_2013',\n",
    "    '_Dif2013')] = ATEbyNurse.ix[:,t_1_2013[i]]-ATEbyNurse.ix[:,t_0_2013[i]]\n",
    "    ATEbyNurse[ATEbyNurse.columns.tolist()[t_0_2014[i]].replace('_t_0_2014',\n",
    "    '_Dif2014')] = ATEbyNurse.ix[:,t_1_2014[i]]-ATEbyNurse.ix[:,t_0_2014[i]]"
   ]
  },
  {
   "cell_type": "code",
   "execution_count": 13,
   "metadata": {
    "collapsed": true
   },
   "outputs": [],
   "source": [
    "cols = ATEbyNurse.columns.values.tolist()\n",
    "values = ['Grade1','Said1or2Lab0_Said1','Said9LabNo_cons','Said0LabNo_Toc']"
   ]
  },
  {
   "cell_type": "code",
   "execution_count": 14,
   "metadata": {
    "collapsed": true
   },
   "outputs": [],
   "source": [
    "for i in range(0,4):                          \n",
    "    difs = [cols.index(s) for s in cols if values[i] in s]\n",
    "    ATEbyNurse[cols[difs[5]].replace('Dif2014','d13_14')] = ATEbyNurse[cols[difs[5]]]-ATEbyNurse[cols[difs[4]]]"
   ]
  },
  {
   "cell_type": "code",
   "execution_count": 15,
   "metadata": {
    "collapsed": true
   },
   "outputs": [],
   "source": [
    "ATEbyNurse['NumCons2013'] = (ATEbyNurse['NumConsPer_t_0_2013']+ATEbyNurse['NumConsPer_t_1_2013'])/2\n",
    "ATEbyNurse['NumCons2014'] = (ATEbyNurse['NumConsPer_t_0_2014']+ATEbyNurse['NumConsPer_t_1_2014'])/2\n",
    "\n",
    "ATEbyNurse['NumCons2013'] = ATEbyNurse['NumCons2013'].fillna(0)\n",
    "ATEbyNurse['NumCons2014'] = ATEbyNurse['NumCons2014'].fillna(0)"
   ]
  },
  {
   "cell_type": "markdown",
   "metadata": {},
   "source": [
    "For the results by clinic I'm going to do it in R. So here I save this and will open it in the next notebook. "
   ]
  },
  {
   "cell_type": "code",
   "execution_count": 17,
   "metadata": {
    "collapsed": false
   },
   "outputs": [
    {
     "data": {
      "text/plain": [
       "['NumConsPer_t_0_2013',\n",
       " 'NumConsPer_t_0_2014',\n",
       " 'NumConsPer_t_1_2013',\n",
       " 'NumConsPer_t_1_2014',\n",
       " 'Grade1_t_0_2013',\n",
       " 'Grade1_t_0_2014',\n",
       " 'Grade1_t_1_2013',\n",
       " 'Grade1_t_1_2014',\n",
       " 'Said1or2Lab0_Said1_t_0_2013',\n",
       " 'Said1or2Lab0_Said1_t_0_2014',\n",
       " 'Said1or2Lab0_Said1_t_1_2013',\n",
       " 'Said1or2Lab0_Said1_t_1_2014',\n",
       " 'Said9LabNo_cons_t_0_2013',\n",
       " 'Said9LabNo_cons_t_0_2014',\n",
       " 'Said9LabNo_cons_t_1_2013',\n",
       " 'Said9LabNo_cons_t_1_2014',\n",
       " 'Said0LabNo_Toc_t_0_2013',\n",
       " 'Said0LabNo_Toc_t_0_2014',\n",
       " 'Said0LabNo_Toc_t_1_2013',\n",
       " 'Said0LabNo_Toc_t_1_2014',\n",
       " 'NurseID',\n",
       " 'ExpectedUnitAtTMT',\n",
       " 'treatment',\n",
       " 'TMT_Date',\n",
       " 'Medical_unit',\n",
       " 'Treatment',\n",
       " 'MatchItCR',\n",
       " 'MatchItCC',\n",
       " 'NumConsPer_Dif2013',\n",
       " 'NumConsPer_Dif2014',\n",
       " 'Grade1_Dif2013',\n",
       " 'Grade1_Dif2014',\n",
       " 'Said1or2Lab0_Said1_Dif2013',\n",
       " 'Said1or2Lab0_Said1_Dif2014',\n",
       " 'Said9LabNo_cons_Dif2013',\n",
       " 'Said9LabNo_cons_Dif2014',\n",
       " 'Said0LabNo_Toc_Dif2013',\n",
       " 'Said0LabNo_Toc_Dif2014',\n",
       " 'Grade1_d13_14',\n",
       " 'Said1or2Lab0_Said1_d13_14',\n",
       " 'Said9LabNo_cons_d13_14',\n",
       " 'Said0LabNo_Toc_d13_14',\n",
       " 'NumCons2013',\n",
       " 'NumCons2014']"
      ]
     },
     "execution_count": 17,
     "metadata": {},
     "output_type": "execute_result"
    }
   ],
   "source": [
    "ATEbyNurse.columns.values.tolist()"
   ]
  },
  {
   "cell_type": "code",
   "execution_count": null,
   "metadata": {
    "collapsed": true
   },
   "outputs": [],
   "source": [
    "ATEbyNurse.to_csv(\"ATEbyNurse.csv\")"
   ]
  }
 ],
 "metadata": {
  "anaconda-cloud": {},
  "kernelspec": {
   "display_name": "Python [conda root]",
   "language": "python",
   "name": "conda-root-py"
  },
  "language_info": {
   "codemirror_mode": {
    "name": "ipython",
    "version": 3
   },
   "file_extension": ".py",
   "mimetype": "text/x-python",
   "name": "python",
   "nbconvert_exporter": "python",
   "pygments_lexer": "ipython3",
   "version": "3.5.2"
  }
 },
 "nbformat": 4,
 "nbformat_minor": 1
}
